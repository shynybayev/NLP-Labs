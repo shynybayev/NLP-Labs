{
 "cells": [
  {
   "cell_type": "code",
   "execution_count": 3,
   "metadata": {},
   "outputs": [
    {
     "name": "stdout",
     "output_type": "stream",
     "text": [
      "45\n",
      "65\n",
      "413512.1\n",
      "31101.8\n"
     ]
    }
   ],
   "source": [
    "import math\n",
    "r = int(input())\n",
    "h = int(input())\n",
    "v = math.pi * r * r * h\n",
    "a = ((2*math.pi*r) * h) + ((math.pi*r**2)*2)\n",
    "print(\"{:.1f}\".format(v))\n",
    "print(\"{:.1f}\".format(a))"
   ]
  },
  {
   "cell_type": "code",
   "execution_count": null,
   "metadata": {},
   "outputs": [],
   "source": []
  }
 ],
 "metadata": {
  "kernelspec": {
   "display_name": "Python 3",
   "language": "python",
   "name": "python3"
  },
  "language_info": {
   "codemirror_mode": {
    "name": "ipython",
    "version": 3
   },
   "file_extension": ".py",
   "mimetype": "text/x-python",
   "name": "python",
   "nbconvert_exporter": "python",
   "pygments_lexer": "ipython3",
   "version": "3.7.6"
  }
 },
 "nbformat": 4,
 "nbformat_minor": 4
}
