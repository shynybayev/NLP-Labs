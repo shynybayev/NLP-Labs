{
  "nbformat": 4,
  "nbformat_minor": 0,
  "metadata": {
    "colab": {
      "name": "NLP_Final_Exam.ipynb",
      "provenance": [],
      "collapsed_sections": []
    },
    "hide_input": false,
    "kernelspec": {
      "display_name": "Python 3",
      "language": "python",
      "name": "python3"
    },
    "language_info": {
      "codemirror_mode": {
        "name": "ipython",
        "version": 3
      },
      "file_extension": ".py",
      "mimetype": "text/x-python",
      "name": "python",
      "nbconvert_exporter": "python",
      "pygments_lexer": "ipython3",
      "version": "3.7.7"
    },
    "varInspector": {
      "cols": {
        "lenName": 16,
        "lenType": 16,
        "lenVar": 40
      },
      "kernels_config": {
        "python": {
          "delete_cmd_postfix": "",
          "delete_cmd_prefix": "del ",
          "library": "var_list.py",
          "varRefreshCmd": "print(var_dic_list())"
        },
        "r": {
          "delete_cmd_postfix": ") ",
          "delete_cmd_prefix": "rm(",
          "library": "var_list.r",
          "varRefreshCmd": "cat(var_dic_list()) "
        }
      },
      "types_to_exclude": [
        "module",
        "function",
        "builtin_function_or_method",
        "instance",
        "_Feature"
      ],
      "window_display": false
    }
  },
  "cells": [
    {
      "cell_type": "markdown",
      "metadata": {
        "colab_type": "text",
        "id": "BsP8X727kQMe"
      },
      "source": [
        "<h3 style=\"text-align: center;\"><b>NLP Final Exam</b></h3>\n"
      ]
    },
    {
      "cell_type": "code",
      "metadata": {
        "colab_type": "code",
        "id": "p-2rBvEkkQMj",
        "colab": {}
      },
      "source": [
        "import torch\n",
        "from torch import nn\n",
        "from torch import functional as F\n",
        "import pandas as pd\n",
        "import numpy as np\n",
        "from sklearn.model_selection import train_test_split\n",
        "from matplotlib import pyplot as plt"
      ],
      "execution_count": 0,
      "outputs": []
    },
    {
      "cell_type": "markdown",
      "metadata": {
        "colab_type": "text",
        "id": "PHc7UePMkQMp"
      },
      "source": [
        "# Дисклеймер про CrossEntropyLoss и NLLLoss\n",
        "\n",
        "Обычно в PyTorch не нужно делать Softmax как последний слой модели. \n",
        "\n",
        "* Если Вы используете NLLLoss, то ему на вход надо давать лог вероятности, то есть выход слоя LogSoftmax. (Просто результат софтмакса, к которому применен логарифм)\n",
        "* Если Вы используете CrossEntropyLoss, то применение LogSoftmax уже включено внутрь лосса, поэтому ему на вход надо подавать просто выход обычного линейного слоя без активации. По сути CrossEntropyLoss = LogSoftmax + NLLLoss\n",
        "\n",
        "Зачем такие сложности, чтобы посчитать обычную кросс энтропию? Дело в том, что нам в любом случае придется взять логарифм от результатов софтмакса, а если делать это одной функцией, то можно сделать более устойчивую реализацию, которая даст меньшую вычислительную погрешность. \n",
        "\n",
        "Таким образом, если у вас в конце сети, решающей задачу классификации, стоит просто линейный слой без активации, то вам нужно использовать CrossEntropy. В notebook используется лосс CrossEntropy"
      ]
    },
    {
      "cell_type": "markdown",
      "metadata": {
        "colab_type": "text",
        "id": "8rM9IY0YkQMq"
      },
      "source": [
        "# Задание 1. Создайте генератор батчей. \n",
        "\n",
        "В этот раз мы хотим сделать генератор, который будет максимально похож на то, что используется в реальном обучении. \n",
        "\n",
        "С помощью numpy вам нужно перемешать исходную выборку и выбирать из нее батчи размером batch_size, если размер выборки не делился на размер батча, то последний батч должен иметь размер меньше batch_size и состоять просто из всех оставшихся объектов. Возвращать нужно в формате (X_batch, y_batch). Необходимо написать именно генератор, то есть вместо return использовать yield. \n",
        "\n",
        "Хорошая статья про генераторы: https://habr.com/ru/post/132554/\n",
        "\n",
        "\n",
        "**Ответ на задание - код**\n"
      ]
    },
    {
      "cell_type": "code",
      "metadata": {
        "colab_type": "code",
        "id": "ttf6PZuVkQMr",
        "colab": {}
      },
      "source": [
        "def batch_generator(X, y, batch_size):\n",
        "    np.random.seed(42)\n",
        "    perm = np.random.permutation(len(X))\n",
        "    #YOUR CODE\n",
        "    for i in range (0, len(X), batch_size):\n",
        "      batch_range = perm[i: i + min(batch_size,len(X)-i)]\n",
        "      X_batch = X[batch_range]\n",
        "      y_batch = y[batch_range]\n",
        "      yield (X_batch, y_batch)"
      ],
      "execution_count": 0,
      "outputs": []
    },
    {
      "cell_type": "markdown",
      "metadata": {
        "colab_type": "text",
        "id": "2RvSIsl-c5lW"
      },
      "source": [
        "Попробуем потестировать наш код"
      ]
    },
    {
      "cell_type": "code",
      "metadata": {
        "colab_type": "code",
        "id": "U_snYtUUcpDy",
        "colab": {}
      },
      "source": [
        "from inspect import isgeneratorfunction\n",
        "assert isgeneratorfunction(batch_generator), \"batch_generator должен быть генератором! В условии есть ссылка на доки\"\n",
        "\n",
        "X = np.array([\n",
        "              [1, 2, 3],\n",
        "              [4, 5, 6],\n",
        "              [7, 8, 9]\n",
        "])\n",
        "y = np.array([\n",
        "              1, 2, 3\n",
        "])\n",
        "\n",
        "# Проверим shape первого батча\n",
        "iterator = batch_generator(X, y, 2)\n",
        "X_batch, y_batch = next(iterator)\n",
        "assert X_batch.shape == (2, 3), y_batch.shape == (2,)\n",
        "assert np.allclose(X_batch, X[:2]), np.allclose(y_batch, y[:2])\n",
        "\n",
        "# Проверим shape последнего батча (их всего два)\n",
        "X_batch, y_batch = next(iterator)\n",
        "assert X_batch.shape == (1, 3), y_batch.shape == (1,)\n",
        "assert np.allclose(X_batch, X[2:]), np.allclose(y_batch, y[2:])\n",
        "\n",
        "# Проверим, что итерации закончились\n",
        "iter_ended = False\n",
        "try:\n",
        "    next(iterator)\n",
        "except StopIteration:\n",
        "    iter_ended = True\n",
        "assert iter_ended\n",
        "\n",
        "# Еще раз проверим то, сколько батчей создает итератор\n",
        "X = np.random.randint(0, 100, size=(1000, 100))\n",
        "y = np.random.randint(-1, 1, size=(1000, 1))\n",
        "num_iter = 0\n",
        "for _ in batch_generator(X, y, 3):\n",
        "    num_iter += 1\n",
        "assert num_iter == (1000 // 3 + 1)"
      ],
      "execution_count": 0,
      "outputs": []
    },
    {
      "cell_type": "markdown",
      "metadata": {
        "colab_type": "text",
        "id": "yJ9_3VfrkQMv"
      },
      "source": [
        "# Задание 2. Обучите модель для классификации звезд\n",
        "\n",
        "Загрузите датасет из файла sky_data.csv, разделите его на train/test и обучите на нем нейронную сеть (архитектура ниже). Обучайте на батчах с помощью оптимизатора Adam, lr подберите сами, пробуйте что-то вроде 1e-2\n",
        "\n",
        "Архитектура:\n",
        "\n",
        "1. Dense Layer с relu активацией и 50 нейронами\n",
        "2. Dropout 80% (если другой keep rate дает сходимость лучше, то можно изменить) (попробуйте 50%) \n",
        "3. BatchNorm\n",
        "4. Dense Layer с relu активацией и 100 нейронами\n",
        "5. Dropout 80% (если другой keep rate дает сходимость лучше, то можно изменить) (попробуйте для разнообразия 50%)\n",
        "6. BatchNorm\n",
        "7. Выходной Dense слой c количеством нейронов, равному количеству классов\n",
        "\n",
        "Лосс - CrossEntropy."
      ]
    },
    {
      "cell_type": "markdown",
      "metadata": {
        "colab_type": "text",
        "id": "qTd7VFMskQMw"
      },
      "source": [
        "В датасете классы представлены строками, поэтому классы нужно закодировать. Для этого в строчке ниже объявлен dict, с помощью него и функции map превратите столбец с таргетом в целое число. Кроме того, за вас мы выделили признаки, которые нужно использовать."
      ]
    },
    {
      "cell_type": "markdown",
      "metadata": {
        "colab_type": "text",
        "id": "MTMs6bU6kQMx"
      },
      "source": [
        "### Загрузка и обработка данных"
      ]
    },
    {
      "cell_type": "code",
      "metadata": {
        "colab_type": "code",
        "id": "Ci8mdz99kQMy",
        "colab": {}
      },
      "source": [
        "feature_columns = ['ra', 'dec', 'u', 'g', 'r', 'i', 'z', 'run', 'camcol', 'field']\n",
        "target_column = 'class'\n",
        "\n",
        "target_mapping = {\n",
        "    'GALAXY': 0,\n",
        "    'STAR': 1,\n",
        "    'QSO': 2\n",
        "}"
      ],
      "execution_count": 0,
      "outputs": []
    },
    {
      "cell_type": "code",
      "metadata": {
        "colab_type": "code",
        "id": "QRcIYVvUkQM2",
        "outputId": "762ae131-cdd6-4d8a-93e7-1d7fbf607b31",
        "colab": {
          "base_uri": "https://localhost:8080/",
          "height": 87
        }
      },
      "source": [
        "data = pd.read_csv('https://drive.google.com/uc?id=1K-8CtATw6Sv7k2dXco1fL5MAhTbKtIH3')\n",
        "data['class'].value_counts()"
      ],
      "execution_count": 14,
      "outputs": [
        {
          "output_type": "execute_result",
          "data": {
            "text/plain": [
              "GALAXY    4998\n",
              "STAR      4152\n",
              "QSO        850\n",
              "Name: class, dtype: int64"
            ]
          },
          "metadata": {
            "tags": []
          },
          "execution_count": 14
        }
      ]
    },
    {
      "cell_type": "code",
      "metadata": {
        "colab_type": "code",
        "id": "XQJyao1zoytL",
        "outputId": "fd3e5324-1b48-4bbf-fe95-23d050ccb0a2",
        "colab": {
          "base_uri": "https://localhost:8080/",
          "height": 197
        }
      },
      "source": [
        "data.head()"
      ],
      "execution_count": 136,
      "outputs": [
        {
          "output_type": "execute_result",
          "data": {
            "text/html": [
              "<div>\n",
              "<style scoped>\n",
              "    .dataframe tbody tr th:only-of-type {\n",
              "        vertical-align: middle;\n",
              "    }\n",
              "\n",
              "    .dataframe tbody tr th {\n",
              "        vertical-align: top;\n",
              "    }\n",
              "\n",
              "    .dataframe thead th {\n",
              "        text-align: right;\n",
              "    }\n",
              "</style>\n",
              "<table border=\"1\" class=\"dataframe\">\n",
              "  <thead>\n",
              "    <tr style=\"text-align: right;\">\n",
              "      <th></th>\n",
              "      <th>objid</th>\n",
              "      <th>ra</th>\n",
              "      <th>dec</th>\n",
              "      <th>u</th>\n",
              "      <th>g</th>\n",
              "      <th>r</th>\n",
              "      <th>i</th>\n",
              "      <th>z</th>\n",
              "      <th>run</th>\n",
              "      <th>rerun</th>\n",
              "      <th>camcol</th>\n",
              "      <th>field</th>\n",
              "      <th>specobjid</th>\n",
              "      <th>class</th>\n",
              "      <th>redshift</th>\n",
              "      <th>plate</th>\n",
              "      <th>mjd</th>\n",
              "      <th>fiberid</th>\n",
              "    </tr>\n",
              "  </thead>\n",
              "  <tbody>\n",
              "    <tr>\n",
              "      <th>0</th>\n",
              "      <td>1.237650e+18</td>\n",
              "      <td>183.531326</td>\n",
              "      <td>0.089693</td>\n",
              "      <td>19.47406</td>\n",
              "      <td>17.04240</td>\n",
              "      <td>15.94699</td>\n",
              "      <td>15.50342</td>\n",
              "      <td>15.22531</td>\n",
              "      <td>752</td>\n",
              "      <td>301</td>\n",
              "      <td>4</td>\n",
              "      <td>267</td>\n",
              "      <td>3.722360e+18</td>\n",
              "      <td>STAR</td>\n",
              "      <td>-0.000009</td>\n",
              "      <td>3306</td>\n",
              "      <td>54922</td>\n",
              "      <td>491</td>\n",
              "    </tr>\n",
              "    <tr>\n",
              "      <th>1</th>\n",
              "      <td>1.237650e+18</td>\n",
              "      <td>183.598371</td>\n",
              "      <td>0.135285</td>\n",
              "      <td>18.66280</td>\n",
              "      <td>17.21449</td>\n",
              "      <td>16.67637</td>\n",
              "      <td>16.48922</td>\n",
              "      <td>16.39150</td>\n",
              "      <td>752</td>\n",
              "      <td>301</td>\n",
              "      <td>4</td>\n",
              "      <td>267</td>\n",
              "      <td>3.638140e+17</td>\n",
              "      <td>STAR</td>\n",
              "      <td>-0.000055</td>\n",
              "      <td>323</td>\n",
              "      <td>51615</td>\n",
              "      <td>541</td>\n",
              "    </tr>\n",
              "    <tr>\n",
              "      <th>2</th>\n",
              "      <td>1.237650e+18</td>\n",
              "      <td>183.680207</td>\n",
              "      <td>0.126185</td>\n",
              "      <td>19.38298</td>\n",
              "      <td>18.19169</td>\n",
              "      <td>17.47428</td>\n",
              "      <td>17.08732</td>\n",
              "      <td>16.80125</td>\n",
              "      <td>752</td>\n",
              "      <td>301</td>\n",
              "      <td>4</td>\n",
              "      <td>268</td>\n",
              "      <td>3.232740e+17</td>\n",
              "      <td>GALAXY</td>\n",
              "      <td>0.123111</td>\n",
              "      <td>287</td>\n",
              "      <td>52023</td>\n",
              "      <td>513</td>\n",
              "    </tr>\n",
              "    <tr>\n",
              "      <th>3</th>\n",
              "      <td>1.237650e+18</td>\n",
              "      <td>183.870529</td>\n",
              "      <td>0.049911</td>\n",
              "      <td>17.76536</td>\n",
              "      <td>16.60272</td>\n",
              "      <td>16.16116</td>\n",
              "      <td>15.98233</td>\n",
              "      <td>15.90438</td>\n",
              "      <td>752</td>\n",
              "      <td>301</td>\n",
              "      <td>4</td>\n",
              "      <td>269</td>\n",
              "      <td>3.722370e+18</td>\n",
              "      <td>STAR</td>\n",
              "      <td>-0.000111</td>\n",
              "      <td>3306</td>\n",
              "      <td>54922</td>\n",
              "      <td>510</td>\n",
              "    </tr>\n",
              "    <tr>\n",
              "      <th>4</th>\n",
              "      <td>1.237650e+18</td>\n",
              "      <td>183.883288</td>\n",
              "      <td>0.102557</td>\n",
              "      <td>17.55025</td>\n",
              "      <td>16.26342</td>\n",
              "      <td>16.43869</td>\n",
              "      <td>16.55492</td>\n",
              "      <td>16.61326</td>\n",
              "      <td>752</td>\n",
              "      <td>301</td>\n",
              "      <td>4</td>\n",
              "      <td>269</td>\n",
              "      <td>3.722370e+18</td>\n",
              "      <td>STAR</td>\n",
              "      <td>0.000590</td>\n",
              "      <td>3306</td>\n",
              "      <td>54922</td>\n",
              "      <td>512</td>\n",
              "    </tr>\n",
              "  </tbody>\n",
              "</table>\n",
              "</div>"
            ],
            "text/plain": [
              "          objid          ra       dec  ...  plate    mjd  fiberid\n",
              "0  1.237650e+18  183.531326  0.089693  ...   3306  54922      491\n",
              "1  1.237650e+18  183.598371  0.135285  ...    323  51615      541\n",
              "2  1.237650e+18  183.680207  0.126185  ...    287  52023      513\n",
              "3  1.237650e+18  183.870529  0.049911  ...   3306  54922      510\n",
              "4  1.237650e+18  183.883288  0.102557  ...   3306  54922      512\n",
              "\n",
              "[5 rows x 18 columns]"
            ]
          },
          "metadata": {
            "tags": []
          },
          "execution_count": 136
        }
      ]
    },
    {
      "cell_type": "code",
      "metadata": {
        "colab_type": "code",
        "id": "40-ivv77p9I2",
        "colab": {}
      },
      "source": [
        "# Extract Features\n",
        "X = data[feature_columns]\n",
        "# Extract target\n",
        "y = data[target_column]\n",
        "\n",
        "# encode target with target_mapping\n",
        "y = y.map(target_mapping).values"
      ],
      "execution_count": 0,
      "outputs": []
    },
    {
      "cell_type": "markdown",
      "metadata": {
        "colab_type": "text",
        "id": "A3OkZT7HkQM7"
      },
      "source": [
        "Нормализация фичей"
      ]
    },
    {
      "cell_type": "code",
      "metadata": {
        "colab_type": "code",
        "id": "ynmXS7dMkQM8",
        "colab": {
          "base_uri": "https://localhost:8080/",
          "height": 247
        },
        "outputId": "8ef50afc-ce00-48db-a804-015a370f2025"
      },
      "source": [
        "# Просто вычтите среднее и поделитe на стандартное отклонение (с помощью пандас). Также преобразуйте всё в np.array\n",
        "#<YOUR CODE>\n",
        "X = (X-X.mean() /X.std())\n",
        "X = np.asarray(X)\n",
        "y = np.asarray(y)\n",
        "X"
      ],
      "execution_count": 138,
      "outputs": [
        {
          "output_type": "execute_result",
          "data": {
            "text/plain": [
              "array([[ 1.79857878e+02, -4.98757962e-01, -2.99528210e+00, ...,\n",
              "         7.48410477e+02,  1.81014456e+00,  2.65140089e+02],\n",
              "       [ 1.79924922e+02, -4.53165960e-01, -3.80654210e+00, ...,\n",
              "         7.48410477e+02,  1.81014456e+00,  2.65140089e+02],\n",
              "       [ 1.80006759e+02, -4.62265900e-01, -3.08636210e+00, ...,\n",
              "         7.48410477e+02,  1.81014456e+00,  2.66140089e+02],\n",
              "       ...,\n",
              "       [ 1.27879114e+02,  5.10785354e+01, -3.71116210e+00, ...,\n",
              "         1.34141048e+03,  8.10144558e-01,  1.60140089e+02],\n",
              "       [ 1.27803703e+02,  5.11646168e+01, -3.58647210e+00, ...,\n",
              "         1.34141048e+03,  8.10144558e-01,  1.61140089e+02],\n",
              "       [ 1.27991564e+02,  5.12168565e+01, -3.19348210e+00, ...,\n",
              "         1.34141048e+03,  8.10144558e-01,  1.61140089e+02]])"
            ]
          },
          "metadata": {
            "tags": []
          },
          "execution_count": 138
        }
      ]
    },
    {
      "cell_type": "code",
      "metadata": {
        "colab_type": "code",
        "id": "XEIewITCqo38",
        "colab": {}
      },
      "source": [
        "assert type(X) == np.ndarray and type(y) == np.ndarray, 'Проверьте, что получившиеся массивы являются np.ndarray'\n",
        "assert np.allclose(y[:5], [1,1,0,1,1])\n",
        "assert X.shape == (10000, 10)\n",
        "assert np.allclose(X.mean(axis=0), np.zeros(10)) and np.allclose(X.std(axis=0), np.ones(10)), 'Данные не отнормированы'\n"
      ],
      "execution_count": 0,
      "outputs": []
    },
    {
      "cell_type": "markdown",
      "metadata": {
        "colab_type": "text",
        "id": "VTcR3q0SkQNj"
      },
      "source": [
        "Обучение"
      ]
    },
    {
      "cell_type": "code",
      "metadata": {
        "colab_type": "code",
        "id": "m5AFbCY4kQNk",
        "colab": {}
      },
      "source": [
        "# Split train/test\n",
        "X_train, X_test, y_train, y_test = train_test_split(X, y, random_state=42)\n",
        "# Превратим данные в тензоры, чтобы потом было удобнее\n",
        "X_train = torch.FloatTensor(X_train)\n",
        "y_train = torch.LongTensor(y_train)\n",
        "X_test = torch.FloatTensor(X_test)\n",
        "y_test = torch.LongTensor(y_test)"
      ],
      "execution_count": 0,
      "outputs": []
    },
    {
      "cell_type": "markdown",
      "metadata": {
        "colab_type": "text",
        "id": "ZDCt0vtlkQNo"
      },
      "source": [
        "#Архитектура:\n",
        "\n",
        "\"Dense Layer с relu активацией и 50 нейронами\n",
        "######Dropout 80% (если другой keep rate дает сходимость лучше, то можно изменить) (попробуйте 50%)\n",
        "######BatchNorm\n",
        "Dense Layer с relu активацией и 100 нейронами\n",
        "######Dropout 80% (если другой keep rate дает сходимость лучше, то можно изменить) (попробуйте для разнообразия 50%)\n",
        "######BatchNorm\n",
        "######Выходной Dense слой c количеством нейронов, равному количеству классов \"\n",
        "\n",
        "\n",
        "#######Хорошо, данные мы подготовили, теперь надо объявить модель"
      ]
    },
    {
      "cell_type": "code",
      "metadata": {
        "colab_type": "code",
        "id": "fI6ZqCaCkQNp",
        "colab": {
          "base_uri": "https://localhost:8080/",
          "height": 194
        },
        "outputId": "b6c898a5-97a6-4308-b554-597763223e47"
      },
      "source": [
        "import torch.optim as optim\n",
        "\n",
        "torch.manual_seed(42) \n",
        "np.random.seed(42)\n",
        "model = nn.Sequential( \n",
        "    nn.Linear(10, 50), #10 signs\n",
        "    nn.ReLU(),\n",
        "    nn.Dropout(p=0.5),\n",
        "    nn.BatchNorm1d(50),\n",
        "    nn.Linear(50, 100),\n",
        "    nn.Dropout(p=0.5),\n",
        "    nn.BatchNorm1d(100),\n",
        "    nn.Linear(100, 3)   #3 output to response\n",
        ")\n",
        "print(model)\n",
        "#Лосс - CrossEntropy.\n",
        "#В датасете классы представлены строками, поэтому классы нужно закодировать. Для этого в строчке ниже объявлен dict, с помощью него и функции map превратите столбец с таргетом в целое число. Кроме того, за вас мы выделили признаки, которые нужно использовать.\n",
        "\n",
        "loss_fn = nn.CrossEntropyLoss()\n",
        "#optimizer = nn.Optimizer()\n",
        "optimizer2 = optim.SGD(model.parameters(), lr=0.01, momentum=0.9)\n",
        "#optimizer1 = optim.Adam([var1, var2], lr=0.0001)\n"
      ],
      "execution_count": 143,
      "outputs": [
        {
          "output_type": "stream",
          "text": [
            "Sequential(\n",
            "  (0): Linear(in_features=10, out_features=50, bias=True)\n",
            "  (1): ReLU()\n",
            "  (2): Dropout(p=0.5, inplace=False)\n",
            "  (3): BatchNorm1d(50, eps=1e-05, momentum=0.1, affine=True, track_running_stats=True)\n",
            "  (4): Linear(in_features=50, out_features=100, bias=True)\n",
            "  (5): Dropout(p=0.5, inplace=False)\n",
            "  (6): BatchNorm1d(100, eps=1e-05, momentum=0.1, affine=True, track_running_stats=True)\n",
            "  (7): Linear(in_features=100, out_features=3, bias=True)\n",
            ")\n"
          ],
          "name": "stdout"
        }
      ]
    },
    {
      "cell_type": "markdown",
      "metadata": {
        "colab_type": "text",
        "id": "GkUkeHfokQNs"
      },
      "source": [
        "### Обучающий цикл"
      ]
    },
    {
      "cell_type": "code",
      "metadata": {
        "colab_type": "code",
        "id": "41jYcT6AkQNt",
        "colab": {}
      },
      "source": [
        "def train(X_train, y_train, X_test, y_test, num_epoch):\n",
        "    train_losses = []\n",
        "    test_losses = []\n",
        "    for i in range(num_epoch):\n",
        "        epoch_train_losses = []\n",
        "        for X_batch, y_batch in batch_generator(X_train, y_train, 500):\n",
        "            # На лекции мы рассказывали, что дропаут работает по-разному во время обучения и реального предсказания\n",
        "            # Чтобы это учесть нам нужно включать и выключать режим обучения, делается это командой ниже\n",
        "            model.train(True)\n",
        "            # Посчитаем предсказание и лосс\n",
        "            current_los = loss_fn(model(X_batch),y_batch)\n",
        "            #torch.from_numpy(ndarray) → Tensor #YOUR CODE\n",
        "            \n",
        "            # зануляем градиент\n",
        "            optimizer2.zero_grad() # YOUR CODE\n",
        "            \n",
        "            # backward\n",
        "            current_los.backward()\n",
        "            \n",
        "            # ОБНОВЛЯЕМ веса\n",
        "            optimizer2.step()  # YOUR CODE\n",
        "            \n",
        "            # Запишем число (не тензор) в наши батчевые лоссы\n",
        "            epoch_train_losses.append(current_los.item())        \n",
        "        train_losses.append(np.mean(epoch_train_losses))\n",
        "        \n",
        "        # Теперь посчитаем лосс на тесте\n",
        "        model.train(False)\n",
        "        with torch.no_grad():\n",
        "            # Сюда опять же надо положить именно число равное лоссу на всем тест датасете\n",
        "            test_losses.append(loss_fn(model(X_test),y_test))\n",
        "            \n",
        "    return train_losses, test_losses"
      ],
      "execution_count": 0,
      "outputs": []
    },
    {
      "cell_type": "code",
      "metadata": {
        "colab_type": "code",
        "id": "idGcIKlIth3D",
        "colab": {}
      },
      "source": [
        "def check_loss_decreased():\n",
        "    print(\"На графике сверху, точно есть сходимость? Точно-точно? [Да/Нет]\")\n",
        "    s = input()\n",
        "    if s.lower() == 'да':\n",
        "        print(\"Хорошо!\")\n",
        "    else:\n",
        "        raise RuntimeError(\"Можно уменьшить дропаут, уменьшить lr, поправить архитектуру, etc\")"
      ],
      "execution_count": 0,
      "outputs": []
    },
    {
      "cell_type": "code",
      "metadata": {
        "colab_type": "code",
        "id": "cDyg5zMckQOX",
        "scrolled": false,
        "colab": {
          "base_uri": "https://localhost:8080/",
          "height": 317
        },
        "outputId": "d32b68c3-70cf-4d4d-9b8d-02556b4618ce"
      },
      "source": [
        "#num_epoch = 500\n",
        "#num_epoch=2000 #RuntimeError: Можно уменьшить дропаут, уменьшить lr, поправить архитектуру, etc\n",
        "# train_losses, test_losses = train(X_train, y_train, X_test, y_test, num_epoch) #Подберите количество эпох так, чтобы график loss сходился\n",
        "# plt.plot(range(len(train_losses)), train_losses, label='train')\n",
        "# plt.plot(range(len(test_losses)), test_losses, label='test')\n",
        "# plt.legend()\n",
        "# plt.show()\n",
        "\n",
        "\n",
        "train_losses, test_losses = train(X_train, y_train, X_test, y_test, 500) #Подберите количество эпох так, чтобы график loss сходился\n",
        "plt.plot(range(len(train_losses)), train_losses, label = 'train')\n",
        "plt.plot(range(len(test_losses)), test_losses, label = 'test')\n",
        "plt.legend()\n",
        "plt.show()\n",
        "\n",
        "    \n",
        "check_loss_decreased()\n",
        "assert train_losses[-1] < 0.3 and test_losses[-1] < 0.3\n"
      ],
      "execution_count": 147,
      "outputs": [
        {
          "output_type": "display_data",
          "data": {
            "image/png": "[encoded data removed]",
            "text/plain": [
              "<Figure size 432x288 with 1 Axes>"
            ]
          },
          "metadata": {
            "tags": [],
            "needs_background": "light"
          }
        },
        {
          "output_type": "stream",
          "text": [
            "На графике сверху, точно есть сходимость? Точно-точно? [Да/Нет]\n",
            "Да\n",
            "Хорошо!\n"
          ],
          "name": "stdout"
        }
      ]
    },
    {
      "cell_type": "markdown",
      "metadata": {
        "colab_type": "text",
        "id": "UV1jaOM1SuTL"
      },
      "source": [
        "### Вычислите accuracy получившейся модели на train и test"
      ]
    },
    {
      "cell_type": "code",
      "metadata": {
        "colab_type": "code",
        "id": "dXqXflGcTBKS",
        "colab": {
          "base_uri": "https://localhost:8080/",
          "height": 52
        },
        "outputId": "91961bef-9940-41dd-d579-b7dbd1650b7c"
      },
      "source": [
        "from sklearn.metrics import accuracy_score\n",
        "#TypeError: accuracy_score() missing 1 required positional argument: 'y_pred'\n",
        "model.eval()\n",
        "train = np.argmax(model.forward(X_train).data.numpy(), axis = 1)\n",
        "test = np.argmax(model.forward(X_test).data.numpy(), axis = 1)\n",
        "\n",
        "train_acc = accuracy_score(y_train, train)\n",
        "test_acc = accuracy_score(y_test, test)\n",
        "\n",
        "\n",
        "assert train_acc > 0.9, \"Если уж классифицировать звезды, которые уже видел, то не хуже, чем в 90% случаев\"\n",
        "assert test_acc > 0.9, \"Новые звезды тоже надо классифицировать хотя бы в 90% случаев\"\n",
        "\n",
        "print(\"Train accuracy: {}\\nTest accuracy: {}\".format(train_acc, test_acc))"
      ],
      "execution_count": 60,
      "outputs": [
        {
          "output_type": "stream",
          "text": [
            "Train accuracy: 0.9672\n",
            "Test accuracy: 0.9616\n"
          ],
          "name": "stdout"
        }
      ]
    },
    {
      "cell_type": "markdown",
      "metadata": {
        "colab_type": "text",
        "id": "IB1XswA2kQOd"
      },
      "source": [
        "# Задание 3. Исправление ошибок в архитектуре\n",
        "\n",
        "Только что вы обучили полносвязную нейронную сеть. Теперь вам предстоит проанализировать архитектуру нейронной сети ниже, исправить в ней ошибки и  обучить её с помощью той же функции train. Пример исправления ошибок есть в семинаре Григория Лелейтнера.\n",
        "\n",
        "Будьте осторожнее и убедитесь, что перед запуском train вы вновь переопределили все необходимые внешние переменные (train обращается к глобальным переменным, в целом так делать не стоит, но сейчас это было оправдано, так как иначе нам пришлось бы передавать порядка 7-8 аргументов).\n",
        "\n",
        "Чтобы у вас получилась такая же архитектура, как у нас, и ответы совпали, давайте определим некоторые правила, как исправлять ошибки:\n",
        "\n",
        "1. Если вы видите лишний нелинейный слой, который стоит не на своем месте, просто удалите его. (не нужно добавлять новые слои, чтобы сделать постановку изначального слоя разумной. Удалять надо самый последний слой, который все портит. Для линейных слоев надо что-то исправить, а не удалить его)\n",
        "2. Если у слоя нет активации, то добавьте ReLU или другую подходящую активацию\n",
        "3. Если что-то не так с learning_rate, то поставьте 1e-2\n",
        "4. Если что-то не так с параметрами, считайте первый параметр, который появляется, как верный (т.е. далее в сети должен использоваться он).\n",
        "5. Ошибки могут быть и в полносвязных слоях. \n",
        "\n"
      ]
    },
    {
      "cell_type": "markdown",
      "metadata": {
        "colab_type": "text",
        "id": "Un7PyM39kQOe"
      },
      "source": [
        "Задача все та же - классификация небесных объектов на том же датасете. После исправления сети вам нужно обучить ее.\n",
        "\n",
        "**Ответ на задачу - средний лосс на тестовом датасете**"
      ]
    },
    {
      "cell_type": "code",
      "metadata": {
        "colab_type": "code",
        "id": "3M9P67WekQOe",
        "colab": {
          "base_uri": "https://localhost:8080/",
          "height": 203
        },
        "outputId": "86ae0cc0-c92d-4d1f-c20e-c080b6e28c27"
      },
      "source": [
        "torch.manual_seed(42)   \n",
        "np.random.seed(42)\n",
        "# WRONG ARCH\n",
        "model = nn.Sequential(\n",
        "    nn.Dropout(p=0.5),\n",
        "    nn.Linear(6, 50),\n",
        "    nn.ReLU(),\n",
        "    nn.Dropout(p=0.5),\n",
        "    nn.Linear(100, 200),\n",
        "    nn.Softmax(),\n",
        "    nn.Linear(200, 200),\n",
        "    nn.ReLU(),\n",
        "    nn.Dropout(p=0.5),\n",
        "    nn.Linear(200, 3),\n",
        "    nn.Dropout(p=0.5)\n",
        ")\n",
        "\n",
        "\n",
        "loss_fn = nn.CrossEntropyLoss()\n",
        "optimizer = torch.optim.Adam(model.parameters[:-2], lr=1e-100)"
      ],
      "execution_count": 126,
      "outputs": [
        {
          "output_type": "error",
          "ename": "TypeError",
          "evalue": "ignored",
          "traceback": [
            "\u001b[0;31m---------------------------------------------------------------------------\u001b[0m",
            "\u001b[0;31mTypeError\u001b[0m                                 Traceback (most recent call last)",
            "\u001b[0;32m<ipython-input-126-f74d12f54bef>\u001b[0m in \u001b[0;36m<module>\u001b[0;34m()\u001b[0m\n\u001b[1;32m     18\u001b[0m \u001b[0;34m\u001b[0m\u001b[0m\n\u001b[1;32m     19\u001b[0m \u001b[0mloss_fn\u001b[0m \u001b[0;34m=\u001b[0m \u001b[0mnn\u001b[0m\u001b[0;34m.\u001b[0m\u001b[0mCrossEntropyLoss\u001b[0m\u001b[0;34m(\u001b[0m\u001b[0;34m)\u001b[0m\u001b[0;34m\u001b[0m\u001b[0;34m\u001b[0m\u001b[0m\n\u001b[0;32m---> 20\u001b[0;31m \u001b[0moptimizer\u001b[0m \u001b[0;34m=\u001b[0m \u001b[0mtorch\u001b[0m\u001b[0;34m.\u001b[0m\u001b[0moptim\u001b[0m\u001b[0;34m.\u001b[0m\u001b[0mAdam\u001b[0m\u001b[0;34m(\u001b[0m\u001b[0mmodel\u001b[0m\u001b[0;34m.\u001b[0m\u001b[0mparameters\u001b[0m\u001b[0;34m[\u001b[0m\u001b[0;34m:\u001b[0m\u001b[0;34m-\u001b[0m\u001b[0;36m2\u001b[0m\u001b[0;34m]\u001b[0m\u001b[0;34m,\u001b[0m \u001b[0mlr\u001b[0m\u001b[0;34m=\u001b[0m\u001b[0;36m1e-100\u001b[0m\u001b[0;34m)\u001b[0m\u001b[0;34m\u001b[0m\u001b[0;34m\u001b[0m\u001b[0m\n\u001b[0m",
            "\u001b[0;31mTypeError\u001b[0m: 'method' object is not subscriptable"
          ]
        }
      ]
    },
    {
      "cell_type": "code",
      "metadata": {
        "colab_type": "code",
        "id": "T0HEx6vbkQOi",
        "colab": {}
      },
      "source": [
        "# RIGHT ARCH\n",
        "torch.manual_seed(42)   \n",
        "np.random.seed(42)\n",
        "model = nn.Sequential(\n",
        "    nn.Linear(6, 50),\n",
        "    nn.ReLU(),\n",
        "    nn.Dropout(p=0.5),\n",
        "    nn.Softmax(),\n",
        "    nn.Dropout(p=0.5),\n",
        "    nn.ReLU(),\n",
        "    nn.Dropout(p=0.5),\n",
        "    nn.Linear(200, 200),\n",
        "    nn.Dropout(p=0.5) \n",
        ")\n",
        "\n",
        "\n",
        "loss_fn =  nn.CrossEntropyLoss()\n",
        "optimizer = optim.SGD(model.parameters(), lr=0.01, momentum=0.9)\n"
      ],
      "execution_count": 0,
      "outputs": []
    },
    {
      "cell_type": "markdown",
      "metadata": {
        "colab_type": "text",
        "id": "oGhmQg06gGiT"
      },
      "source": [
        "### Обучите и протестируйте модель так же, как вы это сделали в задаче 2. Вычислите accuracy."
      ]
    },
    {
      "cell_type": "code",
      "metadata": {
        "colab_type": "code",
        "id": "7SZv9yARkQOo",
        "colab": {}
      },
      "source": [
        "#YOUR CODE\n",
        "def train(X_train, y_train, num_epoch):\n",
        "    for i in range(num_epoch):\n",
        "        for X_batch, y_batch in batch_generator(X_train, y_train, 500):\n",
        "            # На лекции мы рассказывали, что дропаут работает по-разному во время обучения и реального предсказания\n",
        "            # Чтобы это учесть нам нужно включать и выключать режим обучения, делается это командой ниже\n",
        "            model.train(True)\n",
        "            # Посчитаем предсказание и лосс\n",
        "            current_los = loss_fn(model(X_batch),y_batch)\n",
        "            #torch.from_numpy(ndarray) → Tensor #YOUR CODE\n",
        "            \n",
        "            # зануляем градиент\n",
        "            optimizer.zero_grad() # YOUR CODE\n",
        "            \n",
        "            # backward\n",
        "            current_los.backward()\n",
        "            \n",
        "            # ОБНОВЛЯЕМ веса\n",
        "            optimizer.step()  # YOUR CODE\n",
        "            \n",
        "\n",
        "X_train, X_test, y_train, y_test = train_test_split(X, y, random_state=42)\n",
        "# Превратим данные в тензоры, чтобы потом было удобнее\n",
        "X_train = torch.FloatTensor(X_train)\n",
        "y_train = torch.LongTensor(y_train)\n",
        "X_test = torch.FloatTensor(X_test)\n",
        "y_test = torch.LongTensor(y_test)\n",
        "   \n",
        "train(X_train, y_train, num_epoch=500)\n",
        "\n",
        "model.eval()\n",
        "train = np.argmax(model.forward(X_train).data.numpy(), axis = 1)\n",
        "test = np.argmax(model.forward(X_test).data.numpy(), axis = 1)\n",
        "\n",
        "\n",
        "train_acc = accuracy_score(y_train, train)\n",
        "test_acc = accuracy_score(y_test, test)\n",
        "\n",
        "\n",
        "\n",
        "\n",
        " "
      ],
      "execution_count": 0,
      "outputs": []
    },
    {
      "cell_type": "markdown",
      "metadata": {
        "id": "Ip6gwmG0csmi",
        "colab_type": "text"
      },
      "source": [
        "## Задание 4. Опишите в чем заключались ошибки"
      ]
    },
    {
      "cell_type": "markdown",
      "metadata": {
        "colab_type": "text",
        "id": "In4h-bM_g0Vb"
      },
      "source": [
        "## Задание 5. Опишите модель лематизации \n",
        "Необходимо описать пошагово на примере реализацию с помощью архитектуры Transformer состоящей из Encoder и Decoder"
      ]
    },
    {
      "cell_type": "code",
      "metadata": {
        "id": "Evjek09mcsmr",
        "colab_type": "code",
        "colab": {}
      },
      "source": [
        ""
      ],
      "execution_count": 0,
      "outputs": []
    }
  ]
}