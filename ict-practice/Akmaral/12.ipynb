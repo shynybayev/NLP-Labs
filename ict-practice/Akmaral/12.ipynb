{
 "cells": [
  {
   "cell_type": "code",
   "execution_count": 2,
   "metadata": {},
   "outputs": [
    {
     "name": "stdout",
     "output_type": "stream",
     "text": [
      "90\n",
      "155\n",
      "360\n",
      "120\n",
      "2.774767326091884e-17\n"
     ]
    }
   ],
   "source": [
    "import math\n",
    "t1 = int(input())\n",
    "t2 = int(input())\n",
    "g1 = int(input())\n",
    "g2 = int(input())\n",
    "t1_rad = t1*math.pi/180\n",
    "t2_rad = t2*math.pi/180\n",
    "g1_rad = g1*math.pi/180\n",
    "g2_rad = g2*math.pi/180\n",
    "ac = math.sin(t1_rad)\n",
    "ad = math.acos(ac)\n",
    "af = math.sin(t2_rad)\n",
    "ag = math.cos(t1_rad)\n",
    "ah = math.cos(t2_rad)\n",
    "aj = math.cos(g1_rad - g2_rad)\n",
    "print(6371.01 * ad * af + ag * ah * aj)"
   ]
  },
  {
   "cell_type": "code",
   "execution_count": null,
   "metadata": {},
   "outputs": [],
   "source": []
  }
 ],
 "metadata": {
  "kernelspec": {
   "display_name": "Python 3",
   "language": "python",
   "name": "python3"
  },
  "language_info": {
   "codemirror_mode": {
    "name": "ipython",
    "version": 3
   },
   "file_extension": ".py",
   "mimetype": "text/x-python",
   "name": "python",
   "nbconvert_exporter": "python",
   "pygments_lexer": "ipython3",
   "version": "3.7.6"
  }
 },
 "nbformat": 4,
 "nbformat_minor": 4
}
