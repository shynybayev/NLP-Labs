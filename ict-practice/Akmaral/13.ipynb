{
 "cells": [
  {
   "cell_type": "code",
   "execution_count": 1,
   "metadata": {},
   "outputs": [
    {
     "name": "stdout",
     "output_type": "stream",
     "text": [
      "45\n",
      "  0 toonies\n",
      "  0 loonies\n",
      "  1 quarters\n",
      "  2 dimes\n",
      "  0 nickels\n",
      "  0 pennies\n"
     ]
    }
   ],
   "source": [
    "cents_per_nickel = 5\n",
    "cents_per_toonie = 200\n",
    "cents_per_quarter = 25\n",
    "cents_per_dime = 10\n",
    "cents_per_loonie = 100\n",
    "cents = int(input())\n",
    "print(\" \", cents // cents_per_toonie, \"toonies\")\n",
    "cents = cents % cents_per_toonie\n",
    "\n",
    "print(\" \", cents // cents_per_loonie, \"loonies\")\n",
    "cents = cents % cents_per_loonie\n",
    "\n",
    "print(\" \", cents // cents_per_quarter, \"quarters\")\n",
    "cents = cents % cents_per_quarter\n",
    "\n",
    "print(\" \", cents // cents_per_dime, \"dimes\")\n",
    "cents = cents % cents_per_dime\n",
    "\n",
    "print(\" \", cents // cents_per_nickel, \"nickels\")\n",
    "cents = cents % cents_per_nickel\n",
    "\n",
    "print(\" \", cents, \"pennies\")"
   ]
  },
  {
   "cell_type": "code",
   "execution_count": null,
   "metadata": {},
   "outputs": [],
   "source": []
  }
 ],
 "metadata": {
  "kernelspec": {
   "display_name": "Python 3",
   "language": "python",
   "name": "python3"
  },
  "language_info": {
   "codemirror_mode": {
    "name": "ipython",
    "version": 3
   },
   "file_extension": ".py",
   "mimetype": "text/x-python",
   "name": "python",
   "nbconvert_exporter": "python",
   "pygments_lexer": "ipython3",
   "version": "3.7.6"
  }
 },
 "nbformat": 4,
 "nbformat_minor": 4
}
