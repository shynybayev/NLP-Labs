{
 "cells": [
  {
   "cell_type": "code",
   "execution_count": 1,
   "metadata": {},
   "outputs": [
    {
     "name": "stdout",
     "output_type": "stream",
     "text": [
      "167\n",
      "5.4790028 feet\n",
      "65.7480336 inches\n",
      "1.8263324403324 yards\n",
      "0.0010376902563032 miles\n"
     ]
    }
   ],
   "source": [
    "n = int(input())\n",
    "a = n * 0.0328084\n",
    "b = a * 12\n",
    "c = a * 0.333333\n",
    "d = a * 0.000189394\n",
    "print(a, \"feet\")\n",
    "print(b, \"inches\")\n",
    "print(c, \"yards\")\n",
    "print(d, \"miles\")"
   ]
  },
  {
   "cell_type": "code",
   "execution_count": null,
   "metadata": {},
   "outputs": [],
   "source": []
  }
 ],
 "metadata": {
  "kernelspec": {
   "display_name": "Python 3",
   "language": "python",
   "name": "python3"
  },
  "language_info": {
   "codemirror_mode": {
    "name": "ipython",
    "version": 3
   },
   "file_extension": ".py",
   "mimetype": "text/x-python",
   "name": "python",
   "nbconvert_exporter": "python",
   "pygments_lexer": "ipython3",
   "version": "3.7.6"
  }
 },
 "nbformat": 4,
 "nbformat_minor": 4
}
