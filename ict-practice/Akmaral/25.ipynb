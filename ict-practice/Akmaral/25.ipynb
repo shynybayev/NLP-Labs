{
 "cells": [
  {
   "cell_type": "code",
   "execution_count": 5,
   "metadata": {},
   "outputs": [
    {
     "name": "stdout",
     "output_type": "stream",
     "text": [
      "598\n",
      "0:00:09:58\n"
     ]
    }
   ],
   "source": [
    "sec_per_m = 60\n",
    "sec_per_h = 3600\n",
    "sec_per_d = 86400\n",
    "\n",
    "sec = int(input())\n",
    "\n",
    "d = sec / sec_per_d\n",
    "sec = sec % sec_per_d\n",
    " \n",
    "h = sec / sec_per_h\n",
    "sec = sec % sec_per_h\n",
    " \n",
    "m = sec / sec_per_m\n",
    "sec = sec %  sec_per_m\n",
    " \n",
    "print(\"%d:%02d:%02d:%02d\"%(d,h,m,sec))"
   ]
  },
  {
   "cell_type": "code",
   "execution_count": null,
   "metadata": {},
   "outputs": [],
   "source": []
  },
  {
   "cell_type": "code",
   "execution_count": null,
   "metadata": {},
   "outputs": [],
   "source": []
  }
 ],
 "metadata": {
  "kernelspec": {
   "display_name": "Python 3",
   "language": "python",
   "name": "python3"
  },
  "language_info": {
   "codemirror_mode": {
    "name": "ipython",
    "version": 3
   },
   "file_extension": ".py",
   "mimetype": "text/x-python",
   "name": "python",
   "nbconvert_exporter": "python",
   "pygments_lexer": "ipython3",
   "version": "3.7.6"
  }
 },
 "nbformat": 4,
 "nbformat_minor": 4
}
