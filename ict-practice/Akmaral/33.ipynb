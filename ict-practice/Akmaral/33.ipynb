{
 "cells": [
  {
   "cell_type": "code",
   "execution_count": 2,
   "metadata": {},
   "outputs": [
    {
     "name": "stdout",
     "output_type": "stream",
     "text": [
      "54\n",
      "Loaves Discount\n",
      "Regular Price 188.46\n",
      "Total Discount 113.07600000000001\n",
      "Total Amount to be paid 75.384\n"
     ]
    }
   ],
   "source": [
    "x=int(input())\n",
    "y=x*3.49\n",
    "print(\"Loaves Discount\")\n",
    "print(\"Regular Price\",y)\n",
    "print(\"Total Discount\",y*.6)\n",
    "print(\"Total Amount to be paid\",y-(y*.6))"
   ]
  },
  {
   "cell_type": "code",
   "execution_count": null,
   "metadata": {},
   "outputs": [],
   "source": []
  }
 ],
 "metadata": {
  "kernelspec": {
   "display_name": "Python 3",
   "language": "python",
   "name": "python3"
  },
  "language_info": {
   "codemirror_mode": {
    "name": "ipython",
    "version": 3
   },
   "file_extension": ".py",
   "mimetype": "text/x-python",
   "name": "python",
   "nbconvert_exporter": "python",
   "pygments_lexer": "ipython3",
   "version": "3.7.6"
  }
 },
 "nbformat": 4,
 "nbformat_minor": 4
}
