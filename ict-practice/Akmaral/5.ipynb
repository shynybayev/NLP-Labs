{
 "cells": [
  {
   "cell_type": "code",
   "execution_count": 5,
   "metadata": {},
   "outputs": [
    {
     "name": "stdout",
     "output_type": "stream",
     "text": [
      "1 litrden az: 4\n",
      "1 litrden kop: 6\n",
      "1.90 $\n"
     ]
    }
   ],
   "source": [
    "print(\"\"\"1 litrden az: \"\"\", end = \"\")\n",
    "birden_az = int(input())\n",
    "money = birden_az *(0.10)\n",
    "print(\"\"\"1 litrden kop: \"\"\", end = \"\")\n",
    "birden_kop = int(input())\n",
    "money2 = birden_kop*(0.25)\n",
    "res = money+money2\n",
    "if(res*10 == int(res*10)):\n",
    "    print(str(res)+\"0 $\")\n",
    "else:\n",
    "    print(str(res)+\" $\")"
   ]
  },
  {
   "cell_type": "code",
   "execution_count": null,
   "metadata": {},
   "outputs": [],
   "source": []
  },
  {
   "cell_type": "code",
   "execution_count": null,
   "metadata": {},
   "outputs": [],
   "source": []
  },
  {
   "cell_type": "code",
   "execution_count": null,
   "metadata": {},
   "outputs": [],
   "source": []
  }
 ],
 "metadata": {
  "kernelspec": {
   "display_name": "Python 3",
   "language": "python",
   "name": "python3"
  },
  "language_info": {
   "codemirror_mode": {
    "name": "ipython",
    "version": 3
   },
   "file_extension": ".py",
   "mimetype": "text/x-python",
   "name": "python",
   "nbconvert_exporter": "python",
   "pygments_lexer": "ipython3",
   "version": "3.7.6"
  }
 },
 "nbformat": 4,
 "nbformat_minor": 4
}
