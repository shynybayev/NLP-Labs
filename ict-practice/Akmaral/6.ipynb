{
 "cells": [
  {
   "cell_type": "code",
   "execution_count": 1,
   "metadata": {},
   "outputs": [
    {
     "name": "stdout",
     "output_type": "stream",
     "text": [
      "bagasi: 45\n",
      "Nalog is: 5.40\n",
      "Chaevye is: 8.10\n",
      "Vmeste: 58.50\n"
     ]
    }
   ],
   "source": [
    "print(\"bagasi: \", end=\"\")\n",
    "stoimost = float(input())\n",
    "nalog_p = 12\n",
    "chaevye_p = 18\n",
    "nalog = (stoimost*nalog_p)/100\n",
    "chaevye = (stoimost*chaevye_p)/100\n",
    "print(\"Nalog is: \",end=\"\")\n",
    "print(\"%.2f\" % nalog)\n",
    "print(\"Chaevye is: \", end = \"\")\n",
    "print(\"%.2f\" % chaevye)\n",
    "gr = nalog+chaevye+stoimost\n",
    "print(\"Vmeste: \", end=\"\")\n",
    "print(\"%.2f\" % gr)"
   ]
  },
  {
   "cell_type": "code",
   "execution_count": null,
   "metadata": {},
   "outputs": [],
   "source": []
  }
 ],
 "metadata": {
  "kernelspec": {
   "display_name": "Python 3",
   "language": "python",
   "name": "python3"
  },
  "language_info": {
   "codemirror_mode": {
    "name": "ipython",
    "version": 3
   },
   "file_extension": ".py",
   "mimetype": "text/x-python",
   "name": "python",
   "nbconvert_exporter": "python",
   "pygments_lexer": "ipython3",
   "version": "3.7.6"
  }
 },
 "nbformat": 4,
 "nbformat_minor": 4
}
