{
 "cells": [
  {
   "cell_type": "code",
   "execution_count": 1,
   "metadata": {},
   "outputs": [
    {
     "name": "stdout",
     "output_type": "stream",
     "text": [
      "45\n",
      "brnwi jlda: 46.8\n",
      "eknwi jlda: 48.6\n",
      "uwnwi jlda: 50.4\n"
     ]
    }
   ],
   "source": [
    "san = int(input())\n",
    "interest = san * 0.04\n",
    "brnwi = san + interest\n",
    "eknwi = san + (2*interest)\n",
    "uwnwi = san + (3*interest)\n",
    "print(\"brnwi jlda:\",brnwi)\n",
    "print(\"eknwi jlda:\",eknwi)\n",
    "print(\"uwnwi jlda:\",uwnwi)"
   ]
  },
  {
   "cell_type": "code",
   "execution_count": null,
   "metadata": {},
   "outputs": [],
   "source": []
  }
 ],
 "metadata": {
  "kernelspec": {
   "display_name": "Python 3",
   "language": "python",
   "name": "python3"
  },
  "language_info": {
   "codemirror_mode": {
    "name": "ipython",
    "version": 3
   },
   "file_extension": ".py",
   "mimetype": "text/x-python",
   "name": "python",
   "nbconvert_exporter": "python",
   "pygments_lexer": "ipython3",
   "version": "3.7.6"
  }
 },
 "nbformat": 4,
 "nbformat_minor": 4
}
