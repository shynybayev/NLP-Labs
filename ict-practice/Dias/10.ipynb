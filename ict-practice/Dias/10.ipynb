{
 "cells": [
  {
   "cell_type": "code",
   "execution_count": 1,
   "metadata": {},
   "outputs": [
    {
     "name": "stdin",
     "output_type": "stream",
     "text": [
      " 2\n",
      " 5\n"
     ]
    },
    {
     "name": "stdout",
     "output_type": "stream",
     "text": [
      "sum: 7\n",
      "differens: -3\n",
      "product: 10\n",
      "quotient: 0.4\n",
      "remainder: 2\n",
      "logarithm number of: 2 is 0.3010299956639812\n",
      "result a^b: 32\n"
     ]
    }
   ],
   "source": [
    "from math import log10\n",
    "a = int(input())\n",
    "b = int(input())\n",
    "\n",
    "print(\"sum:\",a+b)\n",
    "print(\"differens:\",a-b)\n",
    "print(\"product:\",a*b)\n",
    "print(\"quotient:\",a/b)\n",
    "print(\"remainder:\",a%b)\n",
    "print(\"logarithm number of:\",a,\"is\",log10(a))\n",
    "print(\"result a^b:\",a**b)\n",
    "\n"
   ]
  },
  {
   "cell_type": "code",
   "execution_count": null,
   "metadata": {},
   "outputs": [],
   "source": []
  }
 ],
 "metadata": {
  "kernelspec": {
   "display_name": "Python 3",
   "language": "python",
   "name": "python3"
  },
  "language_info": {
   "codemirror_mode": {
    "name": "ipython",
    "version": 3
   },
   "file_extension": ".py",
   "mimetype": "text/x-python",
   "name": "python",
   "nbconvert_exporter": "python",
   "pygments_lexer": "ipython3",
   "version": "3.7.6"
  }
 },
 "nbformat": 4,
 "nbformat_minor": 4
}
