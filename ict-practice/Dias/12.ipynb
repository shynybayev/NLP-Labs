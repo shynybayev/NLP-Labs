{
 "cells": [
  {
   "cell_type": "code",
   "execution_count": 1,
   "metadata": {},
   "outputs": [
    {
     "name": "stdin",
     "output_type": "stream",
     "text": [
      " 2\n",
      " 3\n",
      " 4\n",
      " 5\n"
     ]
    },
    {
     "name": "stdout",
     "output_type": "stream",
     "text": [
      "157.1775518146407 km\n"
     ]
    }
   ],
   "source": [
    "from math import radians , sin , cos , asin , sqrt\n",
    "l1 = float(input())\n",
    "l2 = float(input())\n",
    "lo1 = float(input())\n",
    "lo2 = float(input())\n",
    "\n",
    "lo1 = radians(lo1)\n",
    "lo2 = radians(lo2)\n",
    "l1 = radians(l1)\n",
    "l2 = radians(l2)\n",
    "\n",
    "lat = l2 - l1\n",
    "lon = lo2 - lo1\n",
    "\n",
    "k = sin(lat/2)**2 + cos(l1) * cos(l2) * sin(lon/2)**2\n",
    "r = 6371\n",
    "l = 2 * asin(sqrt(k))\n",
    "\n",
    "print(l*r,\"km\")"
   ]
  },
  {
   "cell_type": "code",
   "execution_count": null,
   "metadata": {},
   "outputs": [],
   "source": []
  }
 ],
 "metadata": {
  "kernelspec": {
   "display_name": "Python 3",
   "language": "python",
   "name": "python3"
  },
  "language_info": {
   "codemirror_mode": {
    "name": "ipython",
    "version": 3
   },
   "file_extension": ".py",
   "mimetype": "text/x-python",
   "name": "python",
   "nbconvert_exporter": "python",
   "pygments_lexer": "ipython3",
   "version": "3.7.6"
  }
 },
 "nbformat": 4,
 "nbformat_minor": 4
}
