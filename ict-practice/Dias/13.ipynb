{
 "cells": [
  {
   "cell_type": "code",
   "execution_count": null,
   "metadata": {},
   "outputs": [],
   "source": [
    "p_n = 5\n",
    "p_d = 10\n",
    "p_q = 25 \n",
    "p_l = 100\n",
    "p_t = 200\n",
    "\n",
    "cost = int(input())\n",
    "print( cost//p_n,\"nickels\" )\n",
    "cost = cost%p_n\n",
    "print(cost, \"pennies\")\n",
    "\n",
    "cost = int(input())\n",
    "print( cost//p_d,\"dimes\" )\n",
    "cost = cost%p_d\n",
    "print(cost, \"pennies\")\n",
    "\n",
    "cost = int(input())\n",
    "print( cost//p_q,\"quarters\" )\n",
    "cost = cost%p_q\n",
    "print(cost, \"pennies\")\n",
    "\n",
    "cost = int(input())\n",
    "print( cost//p_l,\"loonies\" )\n",
    "cost = cost%p_l\n",
    "print(cost, \"pennies\")\n",
    "\n",
    "cost = int(input())\n",
    "print( cost//p_t,\"toonies\" )\n",
    "cost = cost%p_t\n",
    "print(cost, \"pennies\")\n",
    "\n"
   ]
  },
  {
   "cell_type": "code",
   "execution_count": null,
   "metadata": {},
   "outputs": [],
   "source": []
  }
 ],
 "metadata": {
  "kernelspec": {
   "display_name": "Python 3",
   "language": "python",
   "name": "python3"
  },
  "language_info": {
   "codemirror_mode": {
    "name": "ipython",
    "version": 3
   },
   "file_extension": ".py",
   "mimetype": "text/x-python",
   "name": "python",
   "nbconvert_exporter": "python",
   "pygments_lexer": "ipython3",
   "version": "3.7.6"
  }
 },
 "nbformat": 4,
 "nbformat_minor": 4
}
