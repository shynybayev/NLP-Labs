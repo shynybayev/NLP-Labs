{
 "cells": [
  {
   "cell_type": "code",
   "execution_count": null,
   "metadata": {},
   "outputs": [],
   "source": [
    "m = float(input(\"water in mm \"))\n",
    "t = float(input(\"temperature Celsius \"))\n",
    "\n",
    "h_c_w = 4.186\n",
    "elect_c = 8.9 \n",
    "j_k = 2.777**-7\n",
    "\n",
    "Q = h_c_w*m*t\n",
    "print(\"%d. joules of energy \"%Q)\n",
    "\n",
    "k_h = Q * j_k\n",
    "cost = elect_c * k_h\n",
    "\n",
    "print(\"This energy costs %.2f cents\"%cost)"
   ]
  },
  {
   "cell_type": "code",
   "execution_count": null,
   "metadata": {},
   "outputs": [],
   "source": []
  }
 ],
 "metadata": {
  "kernelspec": {
   "display_name": "Python 3",
   "language": "python",
   "name": "python3"
  },
  "language_info": {
   "codemirror_mode": {
    "name": "ipython",
    "version": 3
   },
   "file_extension": ".py",
   "mimetype": "text/x-python",
   "name": "python",
   "nbconvert_exporter": "python",
   "pygments_lexer": "ipython3",
   "version": "3.7.6"
  }
 },
 "nbformat": 4,
 "nbformat_minor": 4
}
