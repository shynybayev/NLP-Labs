{
 "cells": [
  {
   "cell_type": "code",
   "execution_count": 2,
   "metadata": {},
   "outputs": [
    {
     "name": "stdin",
     "output_type": "stream",
     "text": [
      " 60\n"
     ]
    },
    {
     "name": "stdout",
     "output_type": "stream",
     "text": [
      "the equivalent amount of time:  1:00:00:00.\n"
     ]
    }
   ],
   "source": [
    "second = int(input())\n",
    "\n",
    "second_minute = 60\n",
    "second_hour = 3600\n",
    "second_day = 86400\n",
    "\n",
    "minute = second/second_minute\n",
    "second = second%second_minute\n",
    "\n",
    "hour = second/second_hour\n",
    "second = second%second_hour\n",
    "\n",
    "day = second/second_day\n",
    "second = second%second_day\n",
    "\n",
    "print(\"the equivalent amount of time: \",\"%d:%02d:%02d:%02d.\"%(minute,hour,day,second))\n"
   ]
  },
  {
   "cell_type": "code",
   "execution_count": null,
   "metadata": {},
   "outputs": [],
   "source": [
    "\n"
   ]
  },
  {
   "cell_type": "code",
   "execution_count": null,
   "metadata": {},
   "outputs": [],
   "source": [
    "60\n",
    "\n",
    "45\n",
    "3\n",
    "3453\n",
    "4\n",
    "534\n",
    "534\n",
    "\n"
   ]
  }
 ],
 "metadata": {
  "kernelspec": {
   "display_name": "Python 3",
   "language": "python",
   "name": "python3"
  },
  "language_info": {
   "codemirror_mode": {
    "name": "ipython",
    "version": 3
   },
   "file_extension": ".py",
   "mimetype": "text/x-python",
   "name": "python",
   "nbconvert_exporter": "python",
   "pygments_lexer": "ipython3",
   "version": "3.7.6"
  }
 },
 "nbformat": 4,
 "nbformat_minor": 4
}
