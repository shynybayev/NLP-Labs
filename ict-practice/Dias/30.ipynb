{
 "cells": [
  {
   "cell_type": "code",
   "execution_count": null,
   "metadata": {},
   "outputs": [],
   "source": [
    "k = float(input())\n",
    "\n",
    "ppsi = k/6.89475729\n",
    "mili = k *760 /101.325\n",
    "atm = k/101.325\n",
    "\n",
    "print(\"pressure  in pounds per square inch:%.2f psi\"%ppsi)\n",
    "print(\"pressure in milimetr of mercury:%.2f psi\"%mili)\n",
    "print(\"atmosphere presssure:%.2f atm\"%atm)"
   ]
  },
  {
   "cell_type": "code",
   "execution_count": null,
   "metadata": {},
   "outputs": [],
   "source": []
  }
 ],
 "metadata": {
  "kernelspec": {
   "display_name": "Python 3",
   "language": "python",
   "name": "python3"
  },
  "language_info": {
   "codemirror_mode": {
    "name": "ipython",
    "version": 3
   },
   "file_extension": ".py",
   "mimetype": "text/x-python",
   "name": "python",
   "nbconvert_exporter": "python",
   "pygments_lexer": "ipython3",
   "version": "3.7.6"
  }
 },
 "nbformat": 4,
 "nbformat_minor": 4
}
