{
 "cells": [
  {
   "cell_type": "code",
   "execution_count": 3,
   "metadata": {},
   "outputs": [
    {
     "name": "stdout",
     "output_type": "stream",
     "text": [
      "enter only four-digit integer: 3124\n",
      "The sum is: 10\n"
     ]
    }
   ],
   "source": [
    "num = int(input())\n",
    "a = num//1000\n",
    "a1 = (num - a*1000)//100\n",
    "a2 = (num - a*1000 - a1*100)//10\n",
    "a3 = (num - a*1000 - a1*100 - a2*10)\n",
    "print(a+a1+a2+a3)\n"
   ]
  }
 ],
 "metadata": {
  "kernelspec": {
   "display_name": "Python 3",
   "language": "python",
   "name": "python3"
  },
  "language_info": {
   "codemirror_mode": {
    "name": "ipython",
    "version": 3
   },
   "file_extension": ".py",
   "mimetype": "text/x-python",
   "name": "python",
   "nbconvert_exporter": "python",
   "pygments_lexer": "ipython3",
   "version": "3.7.6"
  }
 },
 "nbformat": 4,
 "nbformat_minor": 4
}
