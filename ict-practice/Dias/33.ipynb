{
 "cells": [
  {
   "cell_type": "code",
   "execution_count": 3,
   "metadata": {},
   "outputs": [
    {
     "name": "stdin",
     "output_type": "stream",
     "text": [
      " 4\n"
     ]
    },
    {
     "name": "stdout",
     "output_type": "stream",
     "text": [
      "regular price is: 13.96\n",
      "discount is:  8.38\n",
      "final result is:  5.58\n"
     ]
    }
   ],
   "source": [
    "loaves = int(input())\n",
    "\n",
    "price = 3.49\n",
    "disc = 0.60\n",
    "\n",
    "regular_p = loaves * price \n",
    "disc_d = regular_p * disc\n",
    "final = regular_p - disc_d\n",
    "\n",
    "print(\"regular price is: %5.2f\"%regular_p)\n",
    "print(\"discount is: %5.2f\"%disc_d)\n",
    "print(\"final result is: %5.2f\"%final)"
   ]
  },
  {
   "cell_type": "code",
   "execution_count": null,
   "metadata": {},
   "outputs": [],
   "source": []
  }
 ],
 "metadata": {
  "kernelspec": {
   "display_name": "Python 3",
   "language": "python",
   "name": "python3"
  },
  "language_info": {
   "codemirror_mode": {
    "name": "ipython",
    "version": 3
   },
   "file_extension": ".py",
   "mimetype": "text/x-python",
   "name": "python",
   "nbconvert_exporter": "python",
   "pygments_lexer": "ipython3",
   "version": "3.7.6"
  }
 },
 "nbformat": 4,
 "nbformat_minor": 4
}
