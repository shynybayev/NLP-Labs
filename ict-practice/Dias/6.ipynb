{
 "cells": [
  {
   "cell_type": "code",
   "execution_count": 1,
   "metadata": {},
   "outputs": [
    {
     "name": "stdin",
     "output_type": "stream",
     "text": [
      "cost:  3\n"
     ]
    },
    {
     "name": "stdout",
     "output_type": "stream",
     "text": [
      "Your tax 0.15\n",
      "Your tip 0.54\n",
      "Your final cost 3.69\n"
     ]
    }
   ],
   "source": [
    "m = float(input(\"cost: \"))\n",
    "\n",
    "t_r = 0.05\n",
    "t_pr = 0.18\n",
    "\n",
    "tax = m * t_r\n",
    "tip = m * t_pr\n",
    "result = tax + m + tip\n",
    "\n",
    "print(\"Your tax %.2f\" % tax)\n",
    "print(\"Your tip %.2f\" % tip)\n",
    "print(\"Your final cost %.2f\" % result)\n"
   ]
  },
  {
   "cell_type": "code",
   "execution_count": null,
   "metadata": {},
   "outputs": [],
   "source": [
    "2\n",
    "\n",
    "2\n",
    "3\n"
   ]
  }
 ],
 "metadata": {
  "kernelspec": {
   "display_name": "Python 3",
   "language": "python",
   "name": "python3"
  },
  "language_info": {
   "codemirror_mode": {
    "name": "ipython",
    "version": 3
   },
   "file_extension": ".py",
   "mimetype": "text/x-python",
   "name": "python",
   "nbconvert_exporter": "python",
   "pygments_lexer": "ipython3",
   "version": "3.7.6"
  }
 },
 "nbformat": 4,
 "nbformat_minor": 4
}
