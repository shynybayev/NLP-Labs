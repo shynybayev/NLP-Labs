{
 "cells": [
  {
   "cell_type": "code",
   "execution_count": 11,
   "metadata": {},
   "outputs": [
    {
     "name": "stdout",
     "output_type": "stream",
     "text": [
      "positive integer: 1\n",
      "sum of the number 1 is :  1\n",
      "the sum of the positive int:  1.0\n"
     ]
    }
   ],
   "source": [
    "n = int(input(\"positive integer: \"))\n",
    "sum = n * (n+1)/2\n",
    "print(\"sum of the number 1 is : \",n)\n",
    "print(\"the sum of the positive int: \", sum)"
   ]
  }
 ],
 "metadata": {
  "kernelspec": {
   "display_name": "Python 3",
   "language": "python",
   "name": "python3"
  },
  "language_info": {
   "codemirror_mode": {
    "name": "ipython",
    "version": 3
   },
   "file_extension": ".py",
   "mimetype": "text/x-python",
   "name": "python",
   "nbconvert_exporter": "python",
   "pygments_lexer": "ipython3",
   "version": "3.7.6"
  }
 },
 "nbformat": 4,
 "nbformat_minor": 4
}
