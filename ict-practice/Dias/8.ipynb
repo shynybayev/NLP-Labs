{
 "cells": [
  {
   "cell_type": "code",
   "execution_count": 1,
   "metadata": {},
   "outputs": [
    {
     "name": "stdin",
     "output_type": "stream",
     "text": [
      "number of w:  2\n",
      "number of g:  3\n"
     ]
    },
    {
     "name": "stdout",
     "output_type": "stream",
     "text": [
      "total  486.0\n"
     ]
    }
   ],
   "source": [
    "w = float(input(\"number of w: \"))\n",
    "g =  float(input(\"number of g: \"))\n",
    "\n",
    "kgwn = 75\n",
    "kggm = 112\n",
    "t = 75*w + 112*g\n",
    "\n",
    "print(\"total \" ,t)\n"
   ]
  },
  {
   "cell_type": "code",
   "execution_count": null,
   "metadata": {},
   "outputs": [],
   "source": []
  }
 ],
 "metadata": {
  "kernelspec": {
   "display_name": "Python 3",
   "language": "python",
   "name": "python3"
  },
  "language_info": {
   "codemirror_mode": {
    "name": "ipython",
    "version": 3
   },
   "file_extension": ".py",
   "mimetype": "text/x-python",
   "name": "python",
   "nbconvert_exporter": "python",
   "pygments_lexer": "ipython3",
   "version": "3.7.6"
  }
 },
 "nbformat": 4,
 "nbformat_minor": 4
}
